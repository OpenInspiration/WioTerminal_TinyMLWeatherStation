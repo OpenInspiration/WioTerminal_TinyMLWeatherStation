{
 "metadata": {
  "language_info": {
   "codemirror_mode": {
    "name": "ipython",
    "version": 3
   },
   "file_extension": ".py",
   "mimetype": "text/x-python",
   "name": "python",
   "nbconvert_exporter": "python",
   "pygments_lexer": "ipython3",
   "version": "3.8.2-final"
  },
  "orig_nbformat": 2,
  "kernelspec": {
   "name": "python38264bit77eaa665bad74febb2c956a4e7339c98",
   "display_name": "Python 3.8.2 64-bit",
   "language": "python"
  }
 },
 "nbformat": 4,
 "nbformat_minor": 2,
 "cells": [
  {
   "cell_type": "code",
   "execution_count": 54,
   "metadata": {},
   "outputs": [
    {
     "output_type": "execute_result",
     "data": {
      "text/plain": [
       "   Unnamed: 0        Date      Time Temperature Dew Point Humidity Wind  \\\n",
       "0           0  2020-01-01  12:00 AM        81 F      73 F     79 %    N   \n",
       "1           1  2020-01-01  12:30 AM        81 F      73 F     79 %  VAR   \n",
       "2           2  2020-01-01   1:00 AM        79 F      73 F     83 %    N   \n",
       "3           3  2020-01-01   1:30 AM        79 F      73 F     83 %    N   \n",
       "4           4  2020-01-01   2:00 AM        79 F      73 F     83 %    N   \n",
       "5           5  2020-01-01   2:30 AM        79 F      73 F     83 %    N   \n",
       "6           6  2020-01-01   3:00 AM        79 F      73 F     83 %    N   \n",
       "\n",
       "  Wind Speed Wind Gust  Pressure Precip.      Condition  \n",
       "0      5 mph     0 mph  29.89 in  0.0 in  Mostly Cloudy  \n",
       "1      6 mph     0 mph  29.89 in  0.0 in  Mostly Cloudy  \n",
       "2      5 mph     0 mph  29.89 in  0.0 in  Mostly Cloudy  \n",
       "3      6 mph     0 mph  29.89 in  0.0 in  Mostly Cloudy  \n",
       "4      6 mph     0 mph  29.89 in  0.0 in  Mostly Cloudy  \n",
       "5      5 mph     0 mph  29.89 in  0.0 in  Mostly Cloudy  \n",
       "6      3 mph     0 mph  29.89 in  0.0 in  Mostly Cloudy  "
      ],
      "text/html": "<div>\n<style scoped>\n    .dataframe tbody tr th:only-of-type {\n        vertical-align: middle;\n    }\n\n    .dataframe tbody tr th {\n        vertical-align: top;\n    }\n\n    .dataframe thead th {\n        text-align: right;\n    }\n</style>\n<table border=\"1\" class=\"dataframe\">\n  <thead>\n    <tr style=\"text-align: right;\">\n      <th></th>\n      <th>Unnamed: 0</th>\n      <th>Date</th>\n      <th>Time</th>\n      <th>Temperature</th>\n      <th>Dew Point</th>\n      <th>Humidity</th>\n      <th>Wind</th>\n      <th>Wind Speed</th>\n      <th>Wind Gust</th>\n      <th>Pressure</th>\n      <th>Precip.</th>\n      <th>Condition</th>\n    </tr>\n  </thead>\n  <tbody>\n    <tr>\n      <th>0</th>\n      <td>0</td>\n      <td>2020-01-01</td>\n      <td>12:00 AM</td>\n      <td>81 F</td>\n      <td>73 F</td>\n      <td>79 %</td>\n      <td>N</td>\n      <td>5 mph</td>\n      <td>0 mph</td>\n      <td>29.89 in</td>\n      <td>0.0 in</td>\n      <td>Mostly Cloudy</td>\n    </tr>\n    <tr>\n      <th>1</th>\n      <td>1</td>\n      <td>2020-01-01</td>\n      <td>12:30 AM</td>\n      <td>81 F</td>\n      <td>73 F</td>\n      <td>79 %</td>\n      <td>VAR</td>\n      <td>6 mph</td>\n      <td>0 mph</td>\n      <td>29.89 in</td>\n      <td>0.0 in</td>\n      <td>Mostly Cloudy</td>\n    </tr>\n    <tr>\n      <th>2</th>\n      <td>2</td>\n      <td>2020-01-01</td>\n      <td>1:00 AM</td>\n      <td>79 F</td>\n      <td>73 F</td>\n      <td>83 %</td>\n      <td>N</td>\n      <td>5 mph</td>\n      <td>0 mph</td>\n      <td>29.89 in</td>\n      <td>0.0 in</td>\n      <td>Mostly Cloudy</td>\n    </tr>\n    <tr>\n      <th>3</th>\n      <td>3</td>\n      <td>2020-01-01</td>\n      <td>1:30 AM</td>\n      <td>79 F</td>\n      <td>73 F</td>\n      <td>83 %</td>\n      <td>N</td>\n      <td>6 mph</td>\n      <td>0 mph</td>\n      <td>29.89 in</td>\n      <td>0.0 in</td>\n      <td>Mostly Cloudy</td>\n    </tr>\n    <tr>\n      <th>4</th>\n      <td>4</td>\n      <td>2020-01-01</td>\n      <td>2:00 AM</td>\n      <td>79 F</td>\n      <td>73 F</td>\n      <td>83 %</td>\n      <td>N</td>\n      <td>6 mph</td>\n      <td>0 mph</td>\n      <td>29.89 in</td>\n      <td>0.0 in</td>\n      <td>Mostly Cloudy</td>\n    </tr>\n    <tr>\n      <th>5</th>\n      <td>5</td>\n      <td>2020-01-01</td>\n      <td>2:30 AM</td>\n      <td>79 F</td>\n      <td>73 F</td>\n      <td>83 %</td>\n      <td>N</td>\n      <td>5 mph</td>\n      <td>0 mph</td>\n      <td>29.89 in</td>\n      <td>0.0 in</td>\n      <td>Mostly Cloudy</td>\n    </tr>\n    <tr>\n      <th>6</th>\n      <td>6</td>\n      <td>2020-01-01</td>\n      <td>3:00 AM</td>\n      <td>79 F</td>\n      <td>73 F</td>\n      <td>83 %</td>\n      <td>N</td>\n      <td>3 mph</td>\n      <td>0 mph</td>\n      <td>29.89 in</td>\n      <td>0.0 in</td>\n      <td>Mostly Cloudy</td>\n    </tr>\n  </tbody>\n</table>\n</div>"
     },
     "metadata": {},
     "execution_count": 54
    }
   ],
   "source": [
    "import pandas as pd\n",
    "import numpy as np\n",
    "\n",
    "data = pd.read_csv('WeatherData.csv')\n",
    "data.iloc[:7]"
   ]
  },
  {
   "cell_type": "code",
   "execution_count": 55,
   "metadata": {},
   "outputs": [
    {
     "output_type": "execute_result",
     "data": {
      "text/plain": [
       "array(['Mostly Cloudy', 'Fair', 'Partly Cloudy',\n",
       "       'Showers in the Vicinity', 'Rain Shower', 'Light Rain Shower',\n",
       "       'Light Rain', 'Rain', 'Heavy Rain', 'Haze',\n",
       "       'Light Rain with Thunder', 'Heavy Rain Shower',\n",
       "       'Thunder in the Vicinity', 'Heavy T-Storm', 'T-Storm', 'Thunder',\n",
       "       'Fog', 'Mostly Cloudy / Windy', 'Cloudy', 'Light Rain / Windy',\n",
       "       'Partly Cloudy / Windy'], dtype=object)"
      ]
     },
     "metadata": {},
     "execution_count": 55
    }
   ],
   "source": [
    "data = data.drop(columns = [\"Unnamed: 0\", \"Date\", \"Time\", \"Dew Point\", \"Wind\", \"Wind Speed\", \"Wind Gust\", \"Pressure\", \"Precip.\"])\n",
    "data[\"Temperature\"] = data[\"Temperature\"].apply( lambda x: round((int(x[:2])-32) * 5/9 + 273, 1) )\n",
    "data[\"Humidity\"] = data[\"Humidity\"].apply(lambda x: int(x[:2]))\n",
    "labels = data.Condition.unique()\n",
    "labels"
   ]
  },
  {
   "cell_type": "code",
   "execution_count": 56,
   "metadata": {},
   "outputs": [
    {
     "output_type": "execute_result",
     "data": {
      "text/plain": [
       "       Temperature  Humidity  NoRain  MightRain  Rain\n",
       "0            300.4        79       1          0     0\n",
       "1            300.4        79       1          0     0\n",
       "2            299.3        83       1          0     0\n",
       "3            299.3        83       1          0     0\n",
       "4            299.3        83       1          0     0\n",
       "...            ...       ...     ...        ...   ...\n",
       "19160        299.3        83       1          0     0\n",
       "19161        299.3        83       1          0     0\n",
       "19162        298.1        89       1          0     0\n",
       "19163        298.1        89       1          0     0\n",
       "19164        298.1        89       1          0     0\n",
       "\n",
       "[19165 rows x 5 columns]"
      ],
      "text/html": "<div>\n<style scoped>\n    .dataframe tbody tr th:only-of-type {\n        vertical-align: middle;\n    }\n\n    .dataframe tbody tr th {\n        vertical-align: top;\n    }\n\n    .dataframe thead th {\n        text-align: right;\n    }\n</style>\n<table border=\"1\" class=\"dataframe\">\n  <thead>\n    <tr style=\"text-align: right;\">\n      <th></th>\n      <th>Temperature</th>\n      <th>Humidity</th>\n      <th>NoRain</th>\n      <th>MightRain</th>\n      <th>Rain</th>\n    </tr>\n  </thead>\n  <tbody>\n    <tr>\n      <th>0</th>\n      <td>300.4</td>\n      <td>79</td>\n      <td>1</td>\n      <td>0</td>\n      <td>0</td>\n    </tr>\n    <tr>\n      <th>1</th>\n      <td>300.4</td>\n      <td>79</td>\n      <td>1</td>\n      <td>0</td>\n      <td>0</td>\n    </tr>\n    <tr>\n      <th>2</th>\n      <td>299.3</td>\n      <td>83</td>\n      <td>1</td>\n      <td>0</td>\n      <td>0</td>\n    </tr>\n    <tr>\n      <th>3</th>\n      <td>299.3</td>\n      <td>83</td>\n      <td>1</td>\n      <td>0</td>\n      <td>0</td>\n    </tr>\n    <tr>\n      <th>4</th>\n      <td>299.3</td>\n      <td>83</td>\n      <td>1</td>\n      <td>0</td>\n      <td>0</td>\n    </tr>\n    <tr>\n      <th>...</th>\n      <td>...</td>\n      <td>...</td>\n      <td>...</td>\n      <td>...</td>\n      <td>...</td>\n    </tr>\n    <tr>\n      <th>19160</th>\n      <td>299.3</td>\n      <td>83</td>\n      <td>1</td>\n      <td>0</td>\n      <td>0</td>\n    </tr>\n    <tr>\n      <th>19161</th>\n      <td>299.3</td>\n      <td>83</td>\n      <td>1</td>\n      <td>0</td>\n      <td>0</td>\n    </tr>\n    <tr>\n      <th>19162</th>\n      <td>298.1</td>\n      <td>89</td>\n      <td>1</td>\n      <td>0</td>\n      <td>0</td>\n    </tr>\n    <tr>\n      <th>19163</th>\n      <td>298.1</td>\n      <td>89</td>\n      <td>1</td>\n      <td>0</td>\n      <td>0</td>\n    </tr>\n    <tr>\n      <th>19164</th>\n      <td>298.1</td>\n      <td>89</td>\n      <td>1</td>\n      <td>0</td>\n      <td>0</td>\n    </tr>\n  </tbody>\n</table>\n<p>19165 rows × 5 columns</p>\n</div>"
     },
     "metadata": {},
     "execution_count": 56
    }
   ],
   "source": [
    "processed_data = data.copy()\n",
    "\n",
    "norain = ['Mostly Cloudy', 'Fair', 'Partly Cloudy', 'Haze', 'Fog', 'Mostly Cloudy / Windy', 'Cloudy', 'Partly Cloudy / Windy']\n",
    "mightrain = ['Showers in the Vicinity', 'Thunder in the Vicinity', 'Thunder']\n",
    "rain = ['Rain Shower', 'Light Rain Shower', 'Light Rain', 'Rain', 'Heavy Rain', 'Light Rain with Thunder', 'Heavy Rain Shower', 'Heavy T-Storm', 'T-Storm', 'Light Rain / Windy']\n",
    "\n",
    "processed_data[\"NoRain\"] = 0\n",
    "processed_data[\"MightRain\"] = 0\n",
    "processed_data[\"Rain\"] = 0\n",
    "\n",
    "processed_data[\"NoRain\"].loc[data.Condition.isin(norain)] = 1\n",
    "processed_data[\"MightRain\"].loc[data.Condition.isin(mightrain)] = 1\n",
    "processed_data[\"Rain\"].loc[data.Condition.isin(rain)] = 1\n",
    "processed_data = processed_data.drop(columns=\"Condition\")\n",
    "\n",
    "processed_data"
   ]
  },
  {
   "cell_type": "code",
   "execution_count": 57,
   "metadata": {
    "tags": []
   },
   "outputs": [
    {
     "output_type": "execute_result",
     "data": {
      "text/plain": [
       "((19158, 12), (19158, 3))"
      ]
     },
     "metadata": {},
     "execution_count": 57
    }
   ],
   "source": [
    "y = processed_data[[\"NoRain\", \"MightRain\", \"Rain\"]].to_numpy()[7:]\n",
    "rawx = processed_data.drop(columns = [\"NoRain\", \"MightRain\", \"Rain\"]).to_numpy()\n",
    "\n",
    "x = []\n",
    "temp = np.array(0)\n",
    "for i in range(len(rawx)-7):\n",
    "    temp = rawx[i:i+6].flatten()\n",
    "    x.append(temp)\n",
    "x = np.array(x)\n",
    "x.shape, y.shape"
   ]
  },
  {
   "cell_type": "code",
   "execution_count": 58,
   "metadata": {},
   "outputs": [],
   "source": [
    "import tensorflow as tf\n",
    "from tensorflow.keras import layers\n",
    "from keras.layers import Dense\n",
    "from sklearn.model_selection import train_test_split\n",
    "\n",
    "xtrain, xtest, ytrain, ytest = train_test_split(x, y, test_size = 0.20, random_state = 33)"
   ]
  },
  {
   "cell_type": "code",
   "execution_count": 59,
   "metadata": {},
   "outputs": [
    {
     "output_type": "stream",
     "name": "stdout",
     "text": [
      "Epoch 1/10\n",
      "432/432 [==============================] - 1s 880us/step - loss: 4.8984 - accuracy: 0.8484 - val_loss: 0.5925 - val_accuracy: 0.8663\n",
      "Epoch 2/10\n",
      "432/432 [==============================] - 0s 682us/step - loss: 0.6456 - accuracy: 0.8489 - val_loss: 0.5362 - val_accuracy: 0.8715\n",
      "Epoch 3/10\n",
      "432/432 [==============================] - 1s 1ms/step - loss: 0.5623 - accuracy: 0.8592 - val_loss: 0.5112 - val_accuracy: 0.8735\n",
      "Epoch 4/10\n",
      "432/432 [==============================] - 0s 885us/step - loss: 0.5731 - accuracy: 0.8567 - val_loss: 0.4927 - val_accuracy: 0.8728\n",
      "Epoch 5/10\n",
      "432/432 [==============================] - 0s 643us/step - loss: 0.5046 - accuracy: 0.8697 - val_loss: 1.0341 - val_accuracy: 0.2081\n",
      "Epoch 6/10\n",
      "432/432 [==============================] - 0s 620us/step - loss: 0.5388 - accuracy: 0.8453 - val_loss: 0.8484 - val_accuracy: 0.4318\n",
      "Epoch 7/10\n",
      "432/432 [==============================] - 0s 602us/step - loss: 0.5050 - accuracy: 0.8570 - val_loss: 0.4432 - val_accuracy: 0.8761\n",
      "Epoch 8/10\n",
      "432/432 [==============================] - 0s 610us/step - loss: 0.4686 - accuracy: 0.8703 - val_loss: 0.4930 - val_accuracy: 0.8767\n",
      "Epoch 9/10\n",
      "432/432 [==============================] - 0s 626us/step - loss: 0.4744 - accuracy: 0.8733 - val_loss: 0.4468 - val_accuracy: 0.8767\n",
      "Epoch 10/10\n",
      "432/432 [==============================] - 0s 608us/step - loss: 0.4862 - accuracy: 0.8666 - val_loss: 0.4352 - val_accuracy: 0.8761\n",
      "120/120 [==============================] - 0s 400us/step - loss: 0.4396 - accuracy: 0.8742\n",
      "INFO:tensorflow:Assets written to: model/assets\n",
      "INFO:tensorflow:Assets written to: model/assets\n"
     ]
    }
   ],
   "source": [
    "model = tf.keras.Sequential()\n",
    "model.add(Dense(14, activation='relu'))\n",
    "model.add(Dense(8, activation='relu'))\n",
    "model.add(Dense(3, activation='softmax'))\n",
    "\n",
    "model.compile(loss = 'categorical_crossentropy',\n",
    "              optimizer = tf.optimizers.Adam(),\n",
    "              metrics=['accuracy'])\n",
    "\n",
    "model.fit(xtrain, ytrain, epochs=10, validation_split=0.1)\n",
    "\n",
    "test_results = model.evaluate(xtest, ytest, verbose=1)\n",
    "\n",
    "model.save('model')"
   ]
  },
  {
   "cell_type": "code",
   "execution_count": 60,
   "metadata": {},
   "outputs": [
    {
     "output_type": "stream",
     "name": "stdout",
     "text": [
      "INFO:tensorflow:Assets written to: /var/folders/1z/7jpgpwcn0kzgx2q4k18ldvgr0000gn/T/tmpkylg5kbg/assets\n",
      "INFO:tensorflow:Assets written to: /var/folders/1z/7jpgpwcn0kzgx2q4k18ldvgr0000gn/T/tmpkylg5kbg/assets\n",
      "Model is 3156 bytes\n"
     ]
    }
   ],
   "source": [
    "# Convert the model to the TensorFlow Lite format without quantization\n",
    "converter = tf.lite.TFLiteConverter.from_keras_model(model)\n",
    "tflite_model = converter.convert()\n",
    "\n",
    "# Save the model to disk\n",
    "open(\"model.tflite\", \"wb\").write(tflite_model)\n",
    "  \n",
    "import os\n",
    "basic_model_size = os.path.getsize(\"model.tflite\")\n",
    "print(\"Model is %d bytes\" % basic_model_size)"
   ]
  },
  {
   "cell_type": "code",
   "execution_count": 61,
   "metadata": {},
   "outputs": [
    {
     "output_type": "stream",
     "name": "stdout",
     "text": [
      "Header file, model.h, is 19,496 bytes.\n"
     ]
    }
   ],
   "source": [
    "!echo \"const unsigned char model[] = {\"  > model.h\n",
    "!cat model.tflite | xxd -i              >> model.h\n",
    "!echo \"};\"                              >> model.h\n",
    "\n",
    "import os\n",
    "model_h_size = os.path.getsize(\"model.h\")\n",
    "print(f\"Header file, model.h, is {model_h_size:,} bytes.\")"
   ]
  },
  {
   "cell_type": "code",
   "execution_count": null,
   "metadata": {},
   "outputs": [],
   "source": []
  }
 ]
}